{
 "cells": [
  {
   "cell_type": "code",
   "execution_count": 47,
   "metadata": {
    "collapsed": false
   },
   "outputs": [
    {
     "name": "stdout",
     "output_type": "stream",
     "text": [
      "55 users found in raw dataset\n",
      "27 scenarios found in raw dataset\n",
      "                key  start  stop\n",
      "user scenario                   \n",
      "0    7          880    880   880\n",
      "1    22        1298   1298  1298\n",
      "2    25         624    624   624\n",
      "3    14         892    892   892\n",
      "4    12         878    878   878\n",
      "5    22        1137   1137  1137\n",
      "6    3          577    577   577\n",
      "7    11         495    495   495\n",
      "8    18         587    587   587\n",
      "9    22         842    842   842\n",
      "10   0          850    850   850\n",
      "11   18        1284   1284  1284\n",
      "12   15         616    616   616\n",
      "13   18         110    110   110\n",
      "14   22         684    684   684\n",
      "15   22         149    149   149\n",
      "16   18         667    667   667\n",
      "17   22         513    513   513\n",
      "18   18         433    433   433\n",
      "19   9          716    716   716\n",
      "20   10         726    726   726\n",
      "21   22         716    716   716\n",
      "22   25         430    430   430\n",
      "23   18           5      5     5\n",
      "24   16         507    507   507\n",
      "25   18        1084   1084  1084\n",
      "26   22         200    200   200\n",
      "27   22        1078   1078  1078\n",
      "28   22         658    658   658\n",
      "29   22        1111   1111  1111\n",
      "30   4          901    901   901\n",
      "31   8          360    360   360\n",
      "32   22        1491   1491  1491\n",
      "33   21         667    667   667\n",
      "34   22        1325   1325  1325\n",
      "35   18           4      4     4\n",
      "36   13         724    724   724\n",
      "37   26         460    460   460\n",
      "38   2          458    458   458\n",
      "39   25         531    531   531\n",
      "40   19         932    932   932\n",
      "41   22         613    613   613\n",
      "42   18         561    561   561\n",
      "43   23         872    872   872\n",
      "44   20         514    514   514\n",
      "45   18         233    233   233\n",
      "46   1          678    678   678\n",
      "47   18         402    402   402\n",
      "48   6          553    553   553\n",
      "49   25         786    786   786\n",
      "50   18         965    965   965\n",
      "51   24         418    418   418\n",
      "52   22         836    836   836\n",
      "53   17         791    791   791\n",
      "54   5          605    605   605\n"
     ]
    }
   ],
   "source": [
    "import keystroke\n",
    "from keystroke import data_prep\n",
    "import numpy as np\n",
    "import pdb\n",
    "\n",
    "def clean_raw(df):\n",
    "    \n",
    "    df.rename(columns={'pushedDownAt': 'start',\n",
    "                         'pushedUpAt': 'stop',\n",
    "                        # 'scenarioId': 'scenario',  \n",
    "                        # 'userId': 'user',  \n",
    "                        }, inplace=True)\n",
    "    \n",
    "    for col in df.columns:\n",
    "        if col.startswith('Unnamed'):  \n",
    "            df.drop(columns=col, inplace=True)\n",
    "            \n",
    "    data_raw.key = data_raw.key.astype(int)\n",
    "    data_raw.scenario = data_raw.scenario.astype('object')\n",
    "    data_raw.start = data_raw.start.astype(int)\n",
    "    data_raw['user'] = data_raw.groupby('userId').ngroup()\n",
    "    data_raw['scenario'] = data_raw.groupby('scenarioId').ngroup()\n",
    "    \n",
    "    \n",
    "    \n",
    "    for col in ['user', 'scenario', 'key', 'start', 'stop']:\n",
    "        assert data_raw[col].dtype in ['int32', 'int64'] , \"data type of '{}' column must be integer\".format(col)\n",
    "        \n",
    "#     for col in ['user', 'scenario']:\n",
    "#         assert data_raw[col].dtype in ['object'] , \"data type of '{}' column must be object\".format(col)\n",
    "    \n",
    "    return df\n",
    "\n",
    "\n",
    "data_raw = data_prep.read_raw()\n",
    "data_raw = clean_raw(data_raw)\n",
    "\n",
    "num_users = data_raw.groupby('user').ngroups\n",
    "num_scenarios = data_raw.groupby('scenario').ngroups\n",
    "print(\"{} users found in raw dataset\".format(num_users))\n",
    "print(\"{} scenarios found in raw dataset\".format(num_scenarios))\n",
    "\n",
    "print(data_raw.groupby(['user', 'scenario']).count())"
   ]
  },
  {
   "cell_type": "code",
   "execution_count": 40,
   "metadata": {
    "collapsed": false
   },
   "outputs": [
    {
     "name": "stdout",
     "output_type": "stream",
     "text": [
      "dict_keys([0, 1, 2, 3, 4, 5, 6, 7, 8, 9, 10, 11, 12, 13, 14, 15, 16, 17, 18, 19, 20, 21, 22, 23, 24, 25, 26, 27, 28, 29, 30, 31, 32, 33, 34, 35, 36, 37, 38, 39, 40, 41, 42, 43, 44, 45, 46, 47, 48, 49, 50, 51, 52, 53, 54])\n"
     ]
    }
   ],
   "source": []
  },
  {
   "cell_type": "code",
   "execution_count": null,
   "metadata": {
    "collapsed": true
   },
   "outputs": [],
   "source": []
  }
 ],
 "metadata": {
  "kernelspec": {
   "display_name": "insight",
   "language": "python",
   "name": "insight"
  },
  "language_info": {
   "codemirror_mode": {
    "name": "ipython",
    "version": 3
   },
   "file_extension": ".py",
   "mimetype": "text/x-python",
   "name": "python",
   "nbconvert_exporter": "python",
   "pygments_lexer": "ipython3",
   "version": "3.6.6"
  }
 },
 "nbformat": 4,
 "nbformat_minor": 2
}
