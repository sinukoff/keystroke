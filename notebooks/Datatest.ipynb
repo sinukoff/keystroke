{
 "cells": [
  {
   "cell_type": "code",
   "execution_count": null,
   "metadata": {
    "collapsed": false
   },
   "outputs": [],
   "source": [
    "import keystroke\n",
    "from keystroke import data_prep\n",
    "import numpy as np\n",
    "import pdb\n",
    "import pandas as pd\n",
    "pd.options.display.max_rows=1000\n",
    "\n",
    "def clean_raw(df):\n",
    "    \n",
    "    df.rename(columns={'pushedDownAt': 'start',\n",
    "                         'pushedUpAt': 'stop',\n",
    "                        # 'scenarioId': 'scenario',  \n",
    "                        # 'userId': 'user',  \n",
    "                        }, inplace=True)\n",
    "    \n",
    "    for col in df.columns:\n",
    "        if col.startswith('Unnamed'):  \n",
    "            df.drop(columns=col, inplace=True)\n",
    "            \n",
    "    data_raw.key = data_raw.key.astype(int)\n",
    "    data_raw.scenarioId = data_raw.scenarioId.astype('object')\n",
    "    data_raw.start = data_raw.start.astype(int)\n",
    "    data_raw['user'] = data_raw.groupby('userId').ngroup()\n",
    "    data_raw['scenario'] = data_raw.groupby('scenarioId').ngroup()\n",
    "    \n",
    "    \n",
    "    \n",
    "    for col in ['user', 'scenario', 'key', 'start', 'stop']:\n",
    "        assert data_raw[col].dtype in ['int32', 'int64'] , \"data type of '{}' column must be integer\".format(col)\n",
    "        \n",
    "#     for col in ['user', 'scenario']:\n",
    "#         assert data_raw[col].dtype in ['object'] , \"data type of '{}' column must be object\".format(col)\n",
    "    \n",
    "    return df\n",
    "    \n",
    "    \n",
    "data_raw = data_prep.read_raw()\n",
    "print(data_raw[['userId', 'scenarioId']])\n",
    "\n",
    "data_raw = clean_raw(data_raw)\n",
    "\n",
    "\n",
    "print(len(data_raw.user.unique().tolist()))\n",
    "\n",
    "for u in data_raw.user.unique().tolist():\n",
    "    df = data_raw.loc[data_raw.user == u]\n",
    "    print(len(df.scenario.unique().tolist()))\n",
    "    pdb.set_trace()\n",
    "    \n",
    "num_users = data_raw.groupby('user').ngroups\n",
    "num_scenarios = data_raw.groupby('scenario').ngroups\n",
    "print(\"{} users found in raw dataset\".format(num_users))\n",
    "print(\"{} scenarios found in raw dataset\".format(num_scenarios))\n",
    "\n",
    "print(data_raw.groupby(['user', 'scenario']).count())"
   ]
  },
  {
   "cell_type": "code",
   "execution_count": 1,
   "metadata": {
    "collapsed": false
   },
   "outputs": [
    {
     "name": "stdout",
     "output_type": "stream",
     "text": [
      "hi\n"
     ]
    }
   ],
   "source": [
    "print('hi')"
   ]
  },
  {
   "cell_type": "code",
   "execution_count": null,
   "metadata": {
    "collapsed": true
   },
   "outputs": [],
   "source": []
  }
 ],
 "metadata": {
  "kernelspec": {
   "display_name": "insight",
   "language": "python",
   "name": "insight"
  },
  "language_info": {
   "codemirror_mode": {
    "name": "ipython",
    "version": 3
   },
   "file_extension": ".py",
   "mimetype": "text/x-python",
   "name": "python",
   "nbconvert_exporter": "python",
   "pygments_lexer": "ipython3",
   "version": "3.6.6"
  }
 },
 "nbformat": 4,
 "nbformat_minor": 2
}
