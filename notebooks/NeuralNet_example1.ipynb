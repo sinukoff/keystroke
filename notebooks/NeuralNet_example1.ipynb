{
 "cells": [
  {
   "cell_type": "code",
   "execution_count": null,
   "metadata": {
    "collapsed": false
   },
   "outputs": [],
   "source": [
    "#imports\n",
    "import numpy as np\n",
    "import matplotlib.pyplot as plt\n",
    "\n",
    "from keras.layers import Dense\n",
    "from keras.models import Sequential\n",
    "from keras.utils import to_categorical\n",
    "from keras.models import load_model\n",
    "from keras.callbacks import EarlyStopping\n"
   ]
  },
  {
   "cell_type": "code",
   "execution_count": null,
   "metadata": {
    "collapsed": true
   },
   "outputs": [],
   "source": [
    "#data\n",
    "def loaddat():\n",
    "    data = None\n",
    "    return data\n",
    "\n",
    "data = loaddat()\n",
    "n_cols = data.shape[1]"
   ]
  },
  {
   "cell_type": "code",
   "execution_count": null,
   "metadata": {
    "collapsed": false
   },
   "outputs": [],
   "source": [
    "n_nodes_1 = 100\n",
    "n_nodes_2 = 100\n",
    "n_nodes_out = 1\n",
    "early_stopping_monitor = EarlyStopping(patience=3)"
   ]
  },
  {
   "cell_type": "code",
   "execution_count": null,
   "metadata": {
    "collapsed": true
   },
   "outputs": [],
   "source": [
    "#FOR REGRESSION MODEL\n",
    "\n",
    "model = Sequential()\n",
    "#Add layers to neural net model\n",
    "#Input layer\n",
    "model.add(Dense(n_nodes_1, activation='relu', input_shape=(ncols,)))\n",
    "#Hidden layer\n",
    "model.add(Dense(n_nodes_2, activation='relu'))\n",
    "#Output layer\n",
    "model.add(Dense(1))\n",
    "model.compile(optimizer='adam', loss='categorical_crossentropy') #CHANGE LOSS FROM MSE FOR CLASSIFICATION"
   ]
  },
  {
   "cell_type": "code",
   "execution_count": null,
   "metadata": {
    "collapsed": false
   },
   "outputs": [],
   "source": [
    "#FOR CLASSIFICATION MODEL\n",
    "\n",
    "n_outcomes = 2\n",
    "savefile = 'model_file.h5'\n",
    "model=Sequential()\n",
    "predictors = data.drop(['user'], axis=1).as_matrix()\n",
    "target = to_categorical(data.user)\n",
    "model.add(Dense(n_nodes_1, activation='relu', input_shape=(ncols,)))\n",
    "model.add(Dense(n_nodes_2, activation='relu'))\n",
    "model.add(Dense(n_nodes_2, activation='relu'))\n",
    "#Output layer\n",
    "model.add(Dense(n_outcomes, activation='softmax'))  #2 nodes for 2 possible outcomes\n",
    "model.add(Dense(1))\n",
    "model.fit(predictors, target, validation_split=0.3, \n",
    "          epochs=20, callbacks=[early_stopping_monitor], verbose=False)\n",
    "model.save(savefile)\n",
    "my_model = load_model(savefile)\n",
    "predictions = my_model.predict(data_to_predict_with)\n",
    "probability_true = predictions[:,1]\n",
    "\n"
   ]
  },
  {
   "cell_type": "code",
   "execution_count": null,
   "metadata": {
    "collapsed": true
   },
   "outputs": [],
   "source": [
    "#PLOT\n",
    "plt.plot(model_1_training.history['val_loss'], 'r', \n",
    "         model_2_training.history['val_loss'], 'b')\n",
    "plt.xlabel('Epochs')\n",
    "plt.ylabel('Validation score')\n",
    "plt.show()"
   ]
  }
 ],
 "metadata": {
  "kernelspec": {
   "display_name": "insight",
   "language": "python",
   "name": "insight"
  },
  "language_info": {
   "codemirror_mode": {
    "name": "ipython",
    "version": 3
   },
   "file_extension": ".py",
   "mimetype": "text/x-python",
   "name": "python",
   "nbconvert_exporter": "python",
   "pygments_lexer": "ipython3",
   "version": "3.6.6"
  }
 },
 "nbformat": 4,
 "nbformat_minor": 2
}
